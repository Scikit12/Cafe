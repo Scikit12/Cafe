{
 "cells": [
  {
   "cell_type": "code",
   "execution_count": 27,
   "id": "666f8dc2-3777-4a22-b42f-f206f806c0ee",
   "metadata": {},
   "outputs": [
    {
     "name": "stdout",
     "output_type": "stream",
     "text": [
      "+---+------------------+-----------+-------+-----------+\n",
      "| id|       nombre_cafe|     origen|proceso|puntaje_sca|\n",
      "+---+------------------+-----------+-------+-----------+\n",
      "|  1|    La Perla Negra|   Colombia| Lavado|       87.5|\n",
      "|  2|     Blue Mountain|    Jamaica| Lavado|       90.2|\n",
      "|  3|    Sidamo Sunrise|    Etiopía|Natural|       88.7|\n",
      "|  4|     Volcán de Oro|  Guatemala|  Honey|       86.9|\n",
      "|  5|        Kona Bliss|      Hawái| Lavado|       89.1|\n",
      "|  6| Yirgacheffe Dream|    Etiopía| Lavado|       91.0|\n",
      "|  7|    Pacamara Power|El Salvador|Natural|       87.2|\n",
      "|  8|     Geisha Legend|     Panamá| Lavado|       94.5|\n",
      "|  9|Sumatra Mandheling|  Indonesia|  Honey|       85.8|\n",
      "| 10|   Tarrazú Clásico| Costa Rica| Lavado|       88.0|\n",
      "| 11|     Huehuetenango|  Guatemala|Natural|       86.5|\n",
      "| 12|     Cerrado Dulce|     Brasil|Natural|       84.7|\n",
      "| 13|          Kenya AA|      Kenia| Lavado|       89.8|\n",
      "| 14|     Java Paradise|  Indonesia|  Honey|       85.2|\n",
      "| 15|       San Ignacio|       Perú| Lavado|       87.0|\n",
      "| 16|     Santa Bárbara|   Honduras|Natural|       86.3|\n",
      "| 17|    Rwanda Bourbon|     Ruanda| Lavado|       88.9|\n",
      "| 18|   Sulawesi Toraja|  Indonesia|  Honey|       86.1|\n",
      "| 19|     Antigua Bella|  Guatemala| Lavado|       87.8|\n",
      "| 20|     Sidra Supreme|    Ecuador|Natural|       90.0|\n",
      "| 21|        Maragogipe|     México| Lavado|       85.5|\n",
      "| 22|       Catuai Rojo|     Brasil|  Honey|       84.9|\n",
      "| 23|        SL28 Magic|      Kenia|Natural|       90.5|\n",
      "| 24|     Pacas Selecto|El Salvador| Lavado|       86.7|\n",
      "| 25|    Typica Antigua|    Bolivia| Lavado|       87.3|\n",
      "| 26|    Bourbon Rosado|   Colombia|Natural|       89.2|\n",
      "| 27|      Gesha Spirit|     Panamá|  Honey|       93.1|\n",
      "| 28|         Obata Oro|     Brasil| Lavado|       85.0|\n",
      "| 29|     Caturra Dulce|   Colombia|  Honey|       86.8|\n",
      "| 30|    Ethiopia Queen|    Etiopía|Natural|       92.3|\n",
      "+---+------------------+-----------+-------+-----------+\n",
      "\n",
      "root\n",
      " |-- id: integer (nullable = true)\n",
      " |-- nombre_cafe: string (nullable = true)\n",
      " |-- origen: string (nullable = true)\n",
      " |-- proceso: string (nullable = true)\n",
      " |-- puntaje_sca: double (nullable = true)\n",
      "\n"
     ]
    }
   ],
   "source": [
    "from pyspark.sql import SparkSession\n",
    "\n",
    "spark = SparkSession.builder.appName(\"cafe\").getOrCreate()\n",
    "cafe_df = spark.read.csv(\"cafe.csv\", header = True, inferSchema = True)\n",
    "cafe_df.createOrReplaceTempView(\"cafe\")\n",
    "\n",
    "cafe_df.show(30)\n",
    "cafe_df.printSchema()"
   ]
  },
  {
   "cell_type": "code",
   "execution_count": 28,
   "id": "7d368189-f3cd-48d7-99d4-ace5e275325c",
   "metadata": {},
   "outputs": [
    {
     "name": "stdout",
     "output_type": "stream",
     "text": [
      "+---+-----------------+-------+-------+-----------+\n",
      "| id|      nombre_cafe| origen|proceso|puntaje_sca|\n",
      "+---+-----------------+-------+-------+-----------+\n",
      "|  8|    Geisha Legend| Panamá| Lavado|       94.5|\n",
      "| 27|     Gesha Spirit| Panamá|  Honey|       93.1|\n",
      "| 30|   Ethiopia Queen|Etiopía|Natural|       92.3|\n",
      "|  6|Yirgacheffe Dream|Etiopía| Lavado|       91.0|\n",
      "| 23|       SL28 Magic|  Kenia|Natural|       90.5|\n",
      "|  2|    Blue Mountain|Jamaica| Lavado|       90.2|\n",
      "+---+-----------------+-------+-------+-----------+\n",
      "\n"
     ]
    }
   ],
   "source": [
    "# 1. Show all coffees with a SCA score above 90.\n",
    "\n",
    "spark.sql(\"\"\"\n",
    "        SELECT *\n",
    "        FROM cafe\n",
    "        WHERE puntaje_sca > 90\n",
    "        ORDER BY puntaje_sca DESC ;\n",
    "\"\"\").show()"
   ]
  },
  {
   "cell_type": "code",
   "execution_count": 30,
   "id": "86378c5a-2498-4505-b825-00037d20036c",
   "metadata": {},
   "outputs": [
    {
     "name": "stdout",
     "output_type": "stream",
     "text": [
      "+--------------+-----------+-------+\n",
      "|   nombre_cafe|     origen|proceso|\n",
      "+--------------+-----------+-------+\n",
      "|Sidamo Sunrise|    Etiopía|Natural|\n",
      "|Pacamara Power|El Salvador|Natural|\n",
      "| Huehuetenango|  Guatemala|Natural|\n",
      "| Cerrado Dulce|     Brasil|Natural|\n",
      "| Santa Bárbara|   Honduras|Natural|\n",
      "| Sidra Supreme|    Ecuador|Natural|\n",
      "|    SL28 Magic|      Kenia|Natural|\n",
      "|Bourbon Rosado|   Colombia|Natural|\n",
      "|Ethiopia Queen|    Etiopía|Natural|\n",
      "+--------------+-----------+-------+\n",
      "\n"
     ]
    }
   ],
   "source": [
    "# 2. List the names and origins of coffees processed with the \"Natural\" method.\n",
    "\n",
    "spark.sql(\"\"\"\n",
    "        SELECT nombre_cafe, origen, proceso\n",
    "        FROM cafe\n",
    "        WHERE proceso = \"Natural\";\n",
    "\"\"\").show()"
   ]
  },
  {
   "cell_type": "code",
   "execution_count": 38,
   "id": "1bd9c9d1-bcd0-47d4-bd0f-12998b5d1ce8",
   "metadata": {},
   "outputs": [
    {
     "name": "stdout",
     "output_type": "stream",
     "text": [
      "+--------+----+\n",
      "|  origen|Pais|\n",
      "+--------+----+\n",
      "|Colombia|   3|\n",
      "+--------+----+\n",
      "\n"
     ]
    }
   ],
   "source": [
    "# 3. Count how many coffees come from Colombia.\n",
    "\n",
    "spark.sql(\"\"\"\n",
    "        SELECT origen, COUNT (*) AS Pais\n",
    "        FROM cafe\n",
    "        WHERE origen = \"Colombia\"\n",
    "        GROUP BY origen;\n",
    "\"\"\").show()\n"
   ]
  },
  {
   "cell_type": "code",
   "execution_count": 45,
   "id": "4541963b-d6cc-4522-a787-064639865ef0",
   "metadata": {},
   "outputs": [
    {
     "name": "stdout",
     "output_type": "stream",
     "text": [
      "+-------+-----------------+\n",
      "| origen|         Promedio|\n",
      "+-------+-----------------+\n",
      "|Etiopía|90.66666666666667|\n",
      "+-------+-----------------+\n",
      "\n"
     ]
    }
   ],
   "source": [
    "# 4. Find the average SCA score for coffees from Ethiopia.\n",
    "\n",
    "spark.sql(\"\"\"\n",
    "        SELECT origen, AVG(puntaje_sca) AS Promedio\n",
    "        FROM cafe\n",
    "        WHERE origen = \"Etiopía\"\n",
    "        GROUP BY origen ;\n",
    "\"\"\").show()\n"
   ]
  },
  {
   "cell_type": "code",
   "execution_count": 46,
   "id": "c9963ed8-24a8-4761-9d64-f0edb5d0a24e",
   "metadata": {},
   "outputs": [
    {
     "name": "stdout",
     "output_type": "stream",
     "text": [
      "+---+-----------------+-------+-------+-----------+\n",
      "| id|      nombre_cafe| origen|proceso|puntaje_sca|\n",
      "+---+-----------------+-------+-------+-----------+\n",
      "|  8|    Geisha Legend| Panamá| Lavado|       94.5|\n",
      "| 27|     Gesha Spirit| Panamá|  Honey|       93.1|\n",
      "| 30|   Ethiopia Queen|Etiopía|Natural|       92.3|\n",
      "|  6|Yirgacheffe Dream|Etiopía| Lavado|       91.0|\n",
      "| 23|       SL28 Magic|  Kenia|Natural|       90.5|\n",
      "+---+-----------------+-------+-------+-----------+\n",
      "\n"
     ]
    }
   ],
   "source": [
    "# 5. Show the top 5 coffees with the highest SCA scores.\n",
    "\n",
    "spark.sql(\"\"\"\n",
    "        SELECT *\n",
    "        FROM cafe\n",
    "        ORDER BY puntaje_sca DESC\n",
    "        LIMIT 5;\n",
    "\"\"\").show()"
   ]
  },
  {
   "cell_type": "code",
   "execution_count": 47,
   "id": "18cdecaf-4d5e-43af-bb33-29fb3001c6c5",
   "metadata": {},
   "outputs": [
    {
     "name": "stdout",
     "output_type": "stream",
     "text": [
      "+-------+\n",
      "|proceso|\n",
      "+-------+\n",
      "|  Honey|\n",
      "| Lavado|\n",
      "|Natural|\n",
      "+-------+\n",
      "\n"
     ]
    }
   ],
   "source": [
    "# 6. List all unique processing methods in the table.\n",
    "\n",
    "spark.sql(\"\"\"\n",
    "        SELECT Distinct(proceso)\n",
    "        FROM cafe\n",
    "\"\"\").show()\n",
    "\n"
   ]
  },
  {
   "cell_type": "code",
   "execution_count": 49,
   "id": "7346ee64-c801-4532-8ed2-5a5cfc1ec8d3",
   "metadata": {},
   "outputs": [
    {
     "name": "stdout",
     "output_type": "stream",
     "text": [
      "+-----------+---------------+\n",
      "|     origen|Numero_de_cafes|\n",
      "+-----------+---------------+\n",
      "|    Etiopía|              3|\n",
      "|  Indonesia|              3|\n",
      "|  Guatemala|              3|\n",
      "|     Brasil|              3|\n",
      "|   Colombia|              3|\n",
      "|      Kenia|              2|\n",
      "|     Panamá|              2|\n",
      "|El Salvador|              2|\n",
      "|    Ecuador|              1|\n",
      "|     Ruanda|              1|\n",
      "|    Bolivia|              1|\n",
      "|      Hawái|              1|\n",
      "|   Honduras|              1|\n",
      "|    Jamaica|              1|\n",
      "|       Perú|              1|\n",
      "| Costa Rica|              1|\n",
      "|     México|              1|\n",
      "+-----------+---------------+\n",
      "\n"
     ]
    }
   ],
   "source": [
    "# 7. Show the number of coffees per country of origin, sorted from most to least.\n",
    "\n",
    "spark.sql(\"\"\"\n",
    "        SELECT origen, COUNT(*) AS Numero_de_cafes\n",
    "        FROM cafe\n",
    "        GROUP BY origen\n",
    "        ORDER BY Numero_de_cafes DESC;\n",
    "\"\"\").show()\n",
    "\n"
   ]
  },
  {
   "cell_type": "code",
   "execution_count": 53,
   "id": "3925dd50-8fdd-4161-814b-f3943f883c4b",
   "metadata": {},
   "outputs": [
    {
     "name": "stdout",
     "output_type": "stream",
     "text": [
      "+-------------+------+-----------+\n",
      "|  nombre_cafe|origen|puntaje_sca|\n",
      "+-------------+------+-----------+\n",
      "|Cerrado Dulce|Brasil|       84.7|\n",
      "+-------------+------+-----------+\n",
      "\n"
     ]
    }
   ],
   "source": [
    "# 8. Find the coffee(s) with the lowest SCA score.\n",
    "\n",
    "spark.sql(\"\"\"\n",
    "        SELECT nombre_cafe, origen, puntaje_sca\n",
    "        FROM cafe\n",
    "        ORDER BY puntaje_sca ASC\n",
    "        LIMIT 1;\n",
    "\"\"\").show()\n"
   ]
  },
  {
   "cell_type": "code",
   "execution_count": 60,
   "id": "b6508b98-6cb5-49b0-98f3-6042f18a6395",
   "metadata": {},
   "outputs": [
    {
     "name": "stdout",
     "output_type": "stream",
     "text": [
      "+-------------+---------+\n",
      "|  nombre_cafe|   origen|\n",
      "+-------------+---------+\n",
      "|Volcán de Oro|Guatemala|\n",
      "|    Obata Oro|   Brasil|\n",
      "+-------------+---------+\n",
      "\n"
     ]
    }
   ],
   "source": [
    "# 9. List all coffees whose name contains the word \"Gold\" or \"Oro\".\n",
    "\n",
    "spark.sql(\"\"\"\n",
    "        SELECT nombre_cafe, origen\n",
    "        FROM cafe\n",
    "        WHERE nombre_cafe LIKE '%Gold%' OR \n",
    "              nombre_cafe LIKE '%Oro%';\n",
    "\"\"\").show()\n"
   ]
  },
  {
   "cell_type": "code",
   "execution_count": 61,
   "id": "323d1947-6d21-4928-9ec2-07e70e33ec24",
   "metadata": {},
   "outputs": [
    {
     "name": "stdout",
     "output_type": "stream",
     "text": [
      "+-------+-----------------+\n",
      "|proceso|         promedio|\n",
      "+-------+-----------------+\n",
      "| Lavado|88.44999999999997|\n",
      "|Natural|88.37777777777778|\n",
      "|  Honey|86.97142857142856|\n",
      "+-------+-----------------+\n",
      "\n"
     ]
    }
   ],
   "source": [
    "# 10. Show the average SCA score for each processing method.\n",
    "\n",
    "spark.sql(\"\"\"\n",
    "        SELECT proceso, AVG (puntaje_sca) AS promedio\n",
    "        FROM cafe\n",
    "        WHERE\n",
    "        GROUP BY proceso\n",
    "        ORDER BY promedio DESC;\n",
    "\"\"\").show()\n"
   ]
  },
  {
   "cell_type": "code",
   "execution_count": null,
   "id": "202dfe0a-3be8-49a5-8c44-21511c2dddab",
   "metadata": {},
   "outputs": [],
   "source": []
  }
 ],
 "metadata": {
  "kernelspec": {
   "display_name": "Python 3 (ipykernel)",
   "language": "python",
   "name": "python3"
  },
  "language_info": {
   "codemirror_mode": {
    "name": "ipython",
    "version": 3
   },
   "file_extension": ".py",
   "mimetype": "text/x-python",
   "name": "python",
   "nbconvert_exporter": "python",
   "pygments_lexer": "ipython3",
   "version": "3.10.16"
  }
 },
 "nbformat": 4,
 "nbformat_minor": 5
}
